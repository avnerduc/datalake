{
 "cells": [
  {
   "cell_type": "code",
   "execution_count": 99,
   "id": "ef9cb03b-722a-4564-8325-c24d114fba38",
   "metadata": {},
   "outputs": [],
   "source": [
    "import pandas as pd\n",
    "import numpy as np\n",
    "import matplotlib.pyplot as plt"
   ]
  },
  {
   "cell_type": "markdown",
   "id": "9c688ff7-f533-40ad-a6af-2a93270adfcc",
   "metadata": {},
   "source": [
    "## Bronze analysis"
   ]
  },
  {
   "cell_type": "code",
   "execution_count": 100,
   "id": "8a619d00-ba95-4a5b-bae5-e477c16da1e5",
   "metadata": {},
   "outputs": [
    {
     "name": "stdout",
     "output_type": "stream",
     "text": [
      "rows=10,000  cols=15  partitions: date/hour present -> {True}\n"
     ]
    }
   ],
   "source": [
    "BRONZE_PATH = \"messages_bronze\"\n",
    "df = pd.read_parquet(BRONZE_PATH)\n",
    "print(f\"rows={len(df):,}  cols={df.shape[1]}  partitions: date/hour present ->\",\n",
    "      {\"date\" in df, \"hour\" in df})"
   ]
  },
  {
   "cell_type": "code",
   "execution_count": 101,
   "id": "ab6d2aa8-7d8e-4c48-83a7-8a1658ea7cfa",
   "metadata": {},
   "outputs": [
    {
     "data": {
      "text/html": [
       "<div>\n",
       "<style scoped>\n",
       "    .dataframe tbody tr th:only-of-type {\n",
       "        vertical-align: middle;\n",
       "    }\n",
       "\n",
       "    .dataframe tbody tr th {\n",
       "        vertical-align: top;\n",
       "    }\n",
       "\n",
       "    .dataframe thead th {\n",
       "        text-align: right;\n",
       "    }\n",
       "</style>\n",
       "<table border=\"1\" class=\"dataframe\">\n",
       "  <thead>\n",
       "    <tr style=\"text-align: right;\">\n",
       "      <th></th>\n",
       "      <th>vin</th>\n",
       "      <th>manufacturer</th>\n",
       "      <th>year</th>\n",
       "      <th>model</th>\n",
       "      <th>latitude</th>\n",
       "      <th>longitude</th>\n",
       "      <th>timestamp</th>\n",
       "      <th>velocity</th>\n",
       "      <th>frontLeftDoorState</th>\n",
       "      <th>wipersState</th>\n",
       "      <th>gearPosition</th>\n",
       "      <th>driverSeatbeltState</th>\n",
       "      <th>ts_utc</th>\n",
       "      <th>date</th>\n",
       "      <th>hour</th>\n",
       "    </tr>\n",
       "  </thead>\n",
       "  <tbody>\n",
       "    <tr>\n",
       "      <th>0</th>\n",
       "      <td>9BWEL41J484018815</td>\n",
       "      <td>Volkswagen</td>\n",
       "      <td>2008</td>\n",
       "      <td>Golf</td>\n",
       "      <td>41.39</td>\n",
       "      <td>-99.05</td>\n",
       "      <td>1754823429113</td>\n",
       "      <td>100</td>\n",
       "      <td>LOCKED</td>\n",
       "      <td>False</td>\n",
       "      <td>5</td>\n",
       "      <td>None</td>\n",
       "      <td>2025-08-10 10:57:09.113000+00:00</td>\n",
       "      <td>2025-08-10</td>\n",
       "      <td>10</td>\n",
       "    </tr>\n",
       "    <tr>\n",
       "      <th>1</th>\n",
       "      <td>KMHFC46F87A211273</td>\n",
       "      <td>Hyundai</td>\n",
       "      <td>2007</td>\n",
       "      <td>Azeraz</td>\n",
       "      <td>40.34</td>\n",
       "      <td>-93.16</td>\n",
       "      <td>1754823343110</td>\n",
       "      <td>0</td>\n",
       "      <td>LOCKED</td>\n",
       "      <td>False</td>\n",
       "      <td>0</td>\n",
       "      <td>None</td>\n",
       "      <td>2025-08-10 10:55:43.110000+00:00</td>\n",
       "      <td>2025-08-10</td>\n",
       "      <td>10</td>\n",
       "    </tr>\n",
       "    <tr>\n",
       "      <th>2</th>\n",
       "      <td>JTHBN36F665857215</td>\n",
       "      <td>Lexus</td>\n",
       "      <td>2006</td>\n",
       "      <td>LS 430</td>\n",
       "      <td>40.31</td>\n",
       "      <td>-106.45</td>\n",
       "      <td>1754822873103</td>\n",
       "      <td>130</td>\n",
       "      <td>UNLOCKED</td>\n",
       "      <td>False</td>\n",
       "      <td>1</td>\n",
       "      <td>LOCKED</td>\n",
       "      <td>2025-08-10 10:47:53.103000+00:00</td>\n",
       "      <td>2025-08-10</td>\n",
       "      <td>10</td>\n",
       "    </tr>\n",
       "  </tbody>\n",
       "</table>\n",
       "</div>"
      ],
      "text/plain": [
       "                 vin manufacturer  year   model  latitude  longitude  \\\n",
       "0  9BWEL41J484018815   Volkswagen  2008    Golf     41.39     -99.05   \n",
       "1  KMHFC46F87A211273      Hyundai  2007  Azeraz     40.34     -93.16   \n",
       "2  JTHBN36F665857215        Lexus  2006  LS 430     40.31    -106.45   \n",
       "\n",
       "       timestamp  velocity frontLeftDoorState wipersState gearPosition  \\\n",
       "0  1754823429113       100             LOCKED       False            5   \n",
       "1  1754823343110         0             LOCKED       False            0   \n",
       "2  1754822873103       130           UNLOCKED       False            1   \n",
       "\n",
       "  driverSeatbeltState                           ts_utc        date hour  \n",
       "0                None 2025-08-10 10:57:09.113000+00:00  2025-08-10   10  \n",
       "1                None 2025-08-10 10:55:43.110000+00:00  2025-08-10   10  \n",
       "2              LOCKED 2025-08-10 10:47:53.103000+00:00  2025-08-10   10  "
      ]
     },
     "metadata": {},
     "output_type": "display_data"
    },
    {
     "data": {
      "text/plain": [
       "vin                                 object\n",
       "manufacturer                        object\n",
       "year                                 int64\n",
       "model                               object\n",
       "latitude                           float64\n",
       "longitude                          float64\n",
       "timestamp                            int64\n",
       "velocity                             int64\n",
       "frontLeftDoorState                  object\n",
       "wipersState                         object\n",
       "gearPosition                        object\n",
       "driverSeatbeltState                 object\n",
       "ts_utc                 datetime64[ns, UTC]\n",
       "date                              category\n",
       "hour                              category\n",
       "dtype: object"
      ]
     },
     "metadata": {},
     "output_type": "display_data"
    },
    {
     "data": {
      "text/html": [
       "<div>\n",
       "<style scoped>\n",
       "    .dataframe tbody tr th:only-of-type {\n",
       "        vertical-align: middle;\n",
       "    }\n",
       "\n",
       "    .dataframe tbody tr th {\n",
       "        vertical-align: top;\n",
       "    }\n",
       "\n",
       "    .dataframe thead th {\n",
       "        text-align: right;\n",
       "    }\n",
       "</style>\n",
       "<table border=\"1\" class=\"dataframe\">\n",
       "  <thead>\n",
       "    <tr style=\"text-align: right;\">\n",
       "      <th></th>\n",
       "      <th>nulls</th>\n",
       "    </tr>\n",
       "  </thead>\n",
       "  <tbody>\n",
       "    <tr>\n",
       "      <th>driverSeatbeltState</th>\n",
       "      <td>2044</td>\n",
       "    </tr>\n",
       "    <tr>\n",
       "      <th>frontLeftDoorState</th>\n",
       "      <td>1990</td>\n",
       "    </tr>\n",
       "    <tr>\n",
       "      <th>gearPosition</th>\n",
       "      <td>1018</td>\n",
       "    </tr>\n",
       "    <tr>\n",
       "      <th>wipersState</th>\n",
       "      <td>591</td>\n",
       "    </tr>\n",
       "    <tr>\n",
       "      <th>vin</th>\n",
       "      <td>441</td>\n",
       "    </tr>\n",
       "    <tr>\n",
       "      <th>manufacturer</th>\n",
       "      <td>0</td>\n",
       "    </tr>\n",
       "    <tr>\n",
       "      <th>year</th>\n",
       "      <td>0</td>\n",
       "    </tr>\n",
       "    <tr>\n",
       "      <th>model</th>\n",
       "      <td>0</td>\n",
       "    </tr>\n",
       "    <tr>\n",
       "      <th>latitude</th>\n",
       "      <td>0</td>\n",
       "    </tr>\n",
       "    <tr>\n",
       "      <th>longitude</th>\n",
       "      <td>0</td>\n",
       "    </tr>\n",
       "    <tr>\n",
       "      <th>timestamp</th>\n",
       "      <td>0</td>\n",
       "    </tr>\n",
       "    <tr>\n",
       "      <th>velocity</th>\n",
       "      <td>0</td>\n",
       "    </tr>\n",
       "    <tr>\n",
       "      <th>ts_utc</th>\n",
       "      <td>0</td>\n",
       "    </tr>\n",
       "    <tr>\n",
       "      <th>date</th>\n",
       "      <td>0</td>\n",
       "    </tr>\n",
       "    <tr>\n",
       "      <th>hour</th>\n",
       "      <td>0</td>\n",
       "    </tr>\n",
       "  </tbody>\n",
       "</table>\n",
       "</div>"
      ],
      "text/plain": [
       "                     nulls\n",
       "driverSeatbeltState   2044\n",
       "frontLeftDoorState    1990\n",
       "gearPosition          1018\n",
       "wipersState            591\n",
       "vin                    441\n",
       "manufacturer             0\n",
       "year                     0\n",
       "model                    0\n",
       "latitude                 0\n",
       "longitude                0\n",
       "timestamp                0\n",
       "velocity                 0\n",
       "ts_utc                   0\n",
       "date                     0\n",
       "hour                     0"
      ]
     },
     "metadata": {},
     "output_type": "display_data"
    }
   ],
   "source": [
    "display(df.head(3))\n",
    "display(df.dtypes)\n",
    "display(df.isna().sum().sort_values(ascending=False).to_frame(\"nulls\"))"
   ]
  },
  {
   "cell_type": "code",
   "execution_count": 102,
   "id": "f93c9dbb-ad27-4bd1-9317-3864c65d390f",
   "metadata": {},
   "outputs": [
    {
     "name": "stdout",
     "output_type": "stream",
     "text": [
      "#Unique VINs: 22\n"
     ]
    }
   ],
   "source": [
    "print(f\"#Unique VINs: {df['vin'].nunique()}\")"
   ]
  },
  {
   "cell_type": "code",
   "execution_count": 103,
   "id": "12270055-8d5a-458e-9f97-53c5e685c015",
   "metadata": {},
   "outputs": [
    {
     "name": "stdout",
     "output_type": "stream",
     "text": [
      "ts range: 2025-08-10 10:44:36.107000+00:00 → 2025-08-10 11:44:34.110000+00:00\n",
      "date        hour\n",
      "2025-08-10  10      2631\n",
      "            11      7369\n",
      "dtype: int64\n"
     ]
    },
    {
     "name": "stderr",
     "output_type": "stream",
     "text": [
      "/var/folders/wg/fhyh82z92tggqh_lpzr0bhf00000gn/T/ipykernel_24526/212674057.py:3: FutureWarning: The default of observed=False is deprecated and will be changed to True in a future version of pandas. Pass observed=False to retain current behavior or observed=True to adopt the future default and silence this warning.\n",
      "  print(df.groupby([\"date\",\"hour\"]).size().tail())\n"
     ]
    }
   ],
   "source": [
    "df[\"ts_utc\"] = pd.to_datetime(df[\"timestamp\"], unit=\"ms\", utc=True, errors=\"coerce\")\n",
    "print(\"ts range:\", df[\"ts_utc\"].min(), \"→\", df[\"ts_utc\"].max())\n",
    "print(df.groupby([\"date\",\"hour\"]).size().tail())"
   ]
  },
  {
   "cell_type": "code",
   "execution_count": 104,
   "id": "49b4f5c6-fe78-4c7c-adc7-906201f42a15",
   "metadata": {},
   "outputs": [
    {
     "name": "stdout",
     "output_type": "stream",
     "text": [
      "\n",
      "Value counts: gearPosition\n"
     ]
    },
    {
     "data": {
      "text/plain": [
       "gearPosition\n",
       "1          2016\n",
       "5          1530\n",
       "3          1187\n",
       "4          1163\n",
       "6          1058\n",
       "None       1018\n",
       "2           942\n",
       "0           513\n",
       "NEUTRAL     471\n",
       "-1           51\n",
       "Name: count, dtype: int64"
      ]
     },
     "metadata": {},
     "output_type": "display_data"
    },
    {
     "name": "stdout",
     "output_type": "stream",
     "text": [
      "\n",
      "Value counts: driverSeatbeltState\n"
     ]
    },
    {
     "data": {
      "text/plain": [
       "driverSeatbeltState\n",
       "LOCKED      7647\n",
       "None        2044\n",
       "UNLOCKED     309\n",
       "Name: count, dtype: int64"
      ]
     },
     "metadata": {},
     "output_type": "display_data"
    },
    {
     "name": "stdout",
     "output_type": "stream",
     "text": [
      "\n",
      "Value counts: frontLeftDoorState\n"
     ]
    },
    {
     "data": {
      "text/plain": [
       "frontLeftDoorState\n",
       "UNLOCKED    4021\n",
       "LOCKED      3989\n",
       "None        1990\n",
       "Name: count, dtype: int64"
      ]
     },
     "metadata": {},
     "output_type": "display_data"
    },
    {
     "name": "stdout",
     "output_type": "stream",
     "text": [
      "\n",
      "Value counts: wipersState\n"
     ]
    },
    {
     "data": {
      "text/plain": [
       "wipersState\n",
       "False    8860\n",
       "None      591\n",
       "True      549\n",
       "Name: count, dtype: int64"
      ]
     },
     "metadata": {},
     "output_type": "display_data"
    },
    {
     "name": "stdout",
     "output_type": "stream",
     "text": [
      "\n",
      "Value counts: manufacturer\n"
     ]
    },
    {
     "data": {
      "text/plain": [
       "manufacturer\n",
       "Toyota           2173\n",
       "Volkswagen       1344\n",
       "Volvo             471\n",
       "Jaguar            470\n",
       "Lexus             457\n",
       " Buick            450\n",
       "Mercedes Benz     441\n",
       "Ferrari           433\n",
       "Dodge             428\n",
       "Aston Martin      424\n",
       "Name: count, dtype: int64"
      ]
     },
     "metadata": {},
     "output_type": "display_data"
    },
    {
     "name": "stdout",
     "output_type": "stream",
     "text": [
      "\n",
      "Value counts: model\n"
     ]
    },
    {
     "data": {
      "text/plain": [
       "model\n",
       "Tacoma       879\n",
       "Camry        876\n",
       "XC90         471\n",
       "S-Type       470\n",
       "LS 430       457\n",
       "Golf         454\n",
       "LeSabre      450\n",
       "Passat       450\n",
       "300 Class    441\n",
       "CC           440\n",
       "Name: count, dtype: int64"
      ]
     },
     "metadata": {},
     "output_type": "display_data"
    }
   ],
   "source": [
    "for c in [\"gearPosition\",\"driverSeatbeltState\",\"frontLeftDoorState\",\"wipersState\",\"manufacturer\",\"model\"]:\n",
    "    if c in df:\n",
    "        print(f\"\\nValue counts: {c}\")\n",
    "        display(df[c].value_counts(dropna=False).head(10))"
   ]
  },
  {
   "cell_type": "code",
   "execution_count": 105,
   "id": "f2ada1e3-402e-4447-849c-3da76f1fec30",
   "metadata": {},
   "outputs": [
    {
     "name": "stdout",
     "output_type": "stream",
     "text": [
      "duplicates by (vin,timestamp): 45\n"
     ]
    }
   ],
   "source": [
    "if {\"vin\",\"timestamp\"}.issubset(df.columns):\n",
    "    dup = df.duplicated(subset=[\"vin\",\"timestamp\"])\n",
    "    print(\"duplicates by (vin,timestamp):\", dup.sum())"
   ]
  },
  {
   "cell_type": "code",
   "execution_count": 106,
   "id": "4238057b-ceab-400f-a796-e6eaff82b394",
   "metadata": {},
   "outputs": [
    {
     "data": {
      "image/png": "[encoded data removed]",
      "text/plain": [
       "<Figure size 640x480 with 1 Axes>"
      ]
     },
     "metadata": {},
     "output_type": "display_data"
    },
    {
     "name": "stderr",
     "output_type": "stream",
     "text": [
      "/var/folders/wg/fhyh82z92tggqh_lpzr0bhf00000gn/T/ipykernel_24526/4083013367.py:7: FutureWarning: 'H' is deprecated and will be removed in a future version, please use 'h' instead.\n",
      "  (s[\"ts_utc\"].dt.floor(\"H\")\n"
     ]
    },
    {
     "data": {
      "image/png": "[encoded data removed]",
      "text/plain": [
       "<Figure size 640x480 with 1 Axes>"
      ]
     },
     "metadata": {},
     "output_type": "display_data"
    },
    {
     "data": {
      "image/png": "[encoded data removed]",
      "text/plain": [
       "<Figure size 640x480 with 1 Axes>"
      ]
     },
     "metadata": {},
     "output_type": "display_data"
    }
   ],
   "source": [
    "s = df.sample(min(len(df), 50_000), random_state=42)\n",
    "\n",
    "s[\"velocity\"].dropna().plot(kind=\"hist\", bins=50, title=\"Velocity histogram\")\n",
    "plt.xlabel(\"velocity\")\n",
    "plt.show()\n",
    "\n",
    "(s[\"ts_utc\"].dt.floor(\"H\")\n",
    "   .value_counts()\n",
    "   .sort_index()\n",
    "   .tail(24)\n",
    "   .plot(kind=\"bar\", title=\"Messages per hour (last 24 buckets)\"))\n",
    "plt.ylabel(\"count\")\n",
    "plt.show()\n",
    "\n",
    "if {\"latitude\",\"longitude\"}.issubset(s.columns):\n",
    "    plt.figure()\n",
    "    plt.scatter(s[\"longitude\"], s[\"latitude\"], s=1)\n",
    "    plt.title(\"Lat/Lon scatter (sampled)\")\n",
    "    plt.xlabel(\"lon\"); plt.ylabel(\"lat\")\n",
    "    plt.show()"
   ]
  },
  {
   "cell_type": "code",
   "execution_count": null,
   "id": "b3e78ea4-69eb-445f-a634-7eafa187ee81",
   "metadata": {},
   "outputs": [],
   "source": []
  },
  {
   "cell_type": "code",
   "execution_count": 107,
   "id": "4a367e56-0c7c-4851-8d26-b0571f52956f",
   "metadata": {},
   "outputs": [
    {
     "data": {
      "text/html": [
       "<div>\n",
       "<style scoped>\n",
       "    .dataframe tbody tr th:only-of-type {\n",
       "        vertical-align: middle;\n",
       "    }\n",
       "\n",
       "    .dataframe tbody tr th {\n",
       "        vertical-align: top;\n",
       "    }\n",
       "\n",
       "    .dataframe thead th {\n",
       "        text-align: right;\n",
       "    }\n",
       "</style>\n",
       "<table border=\"1\" class=\"dataframe\">\n",
       "  <thead>\n",
       "    <tr style=\"text-align: right;\">\n",
       "      <th></th>\n",
       "      <th>vin</th>\n",
       "      <th>manufacturer</th>\n",
       "      <th>year</th>\n",
       "      <th>model</th>\n",
       "      <th>latitude</th>\n",
       "      <th>longitude</th>\n",
       "      <th>timestamp</th>\n",
       "      <th>velocity</th>\n",
       "      <th>frontLeftDoorState</th>\n",
       "      <th>wipersState</th>\n",
       "      <th>gearPosition</th>\n",
       "      <th>driverSeatbeltState</th>\n",
       "      <th>ts_utc</th>\n",
       "      <th>date</th>\n",
       "      <th>hour</th>\n",
       "    </tr>\n",
       "  </thead>\n",
       "  <tbody>\n",
       "    <tr>\n",
       "      <th>4684</th>\n",
       "      <td>4T1BF1FK8FUB03575</td>\n",
       "      <td>Toyota</td>\n",
       "      <td>2015</td>\n",
       "      <td>Camry</td>\n",
       "      <td>45.62</td>\n",
       "      <td>-81.41</td>\n",
       "      <td>1754824335109</td>\n",
       "      <td>450</td>\n",
       "      <td>None</td>\n",
       "      <td>None</td>\n",
       "      <td>2</td>\n",
       "      <td>LOCKED</td>\n",
       "      <td>2025-08-10 11:12:15.109000+00:00</td>\n",
       "      <td>2025-08-10</td>\n",
       "      <td>11</td>\n",
       "    </tr>\n",
       "    <tr>\n",
       "      <th>576</th>\n",
       "      <td>4T1BF1FK8FUB03575</td>\n",
       "      <td>Toyota</td>\n",
       "      <td>2015</td>\n",
       "      <td>Camry</td>\n",
       "      <td>42.13</td>\n",
       "      <td>-78.75</td>\n",
       "      <td>1754823121107</td>\n",
       "      <td>450</td>\n",
       "      <td>UNLOCKED</td>\n",
       "      <td>False</td>\n",
       "      <td>6</td>\n",
       "      <td>LOCKED</td>\n",
       "      <td>2025-08-10 10:52:01.107000+00:00</td>\n",
       "      <td>2025-08-10</td>\n",
       "      <td>10</td>\n",
       "    </tr>\n",
       "    <tr>\n",
       "      <th>8158</th>\n",
       "      <td>4T1BF1FK8FUB03575</td>\n",
       "      <td>Toyota</td>\n",
       "      <td>2015</td>\n",
       "      <td>Camry</td>\n",
       "      <td>40.99</td>\n",
       "      <td>-94.95</td>\n",
       "      <td>1754824647111</td>\n",
       "      <td>450</td>\n",
       "      <td>UNLOCKED</td>\n",
       "      <td>True</td>\n",
       "      <td>5</td>\n",
       "      <td>LOCKED</td>\n",
       "      <td>2025-08-10 11:17:27.111000+00:00</td>\n",
       "      <td>2025-08-10</td>\n",
       "      <td>11</td>\n",
       "    </tr>\n",
       "  </tbody>\n",
       "</table>\n",
       "</div>"
      ],
      "text/plain": [
       "                    vin manufacturer  year  model  latitude  longitude  \\\n",
       "4684  4T1BF1FK8FUB03575       Toyota  2015  Camry     45.62     -81.41   \n",
       "576   4T1BF1FK8FUB03575       Toyota  2015  Camry     42.13     -78.75   \n",
       "8158  4T1BF1FK8FUB03575       Toyota  2015  Camry     40.99     -94.95   \n",
       "\n",
       "          timestamp  velocity frontLeftDoorState wipersState gearPosition  \\\n",
       "4684  1754824335109       450               None        None            2   \n",
       "576   1754823121107       450           UNLOCKED       False            6   \n",
       "8158  1754824647111       450           UNLOCKED        True            5   \n",
       "\n",
       "     driverSeatbeltState                           ts_utc        date hour  \n",
       "4684              LOCKED 2025-08-10 11:12:15.109000+00:00  2025-08-10   11  \n",
       "576               LOCKED 2025-08-10 10:52:01.107000+00:00  2025-08-10   10  \n",
       "8158              LOCKED 2025-08-10 11:17:27.111000+00:00  2025-08-10   11  "
      ]
     },
     "execution_count": 107,
     "metadata": {},
     "output_type": "execute_result"
    }
   ],
   "source": [
    "s[s[\"velocity\"] > 300].head(3)"
   ]
  },
  {
   "cell_type": "code",
   "execution_count": 108,
   "id": "abe62c45-94e6-4d52-aa78-ad96e804b0ec",
   "metadata": {},
   "outputs": [
    {
     "data": {
      "text/plain": [
       "array([450])"
      ]
     },
     "execution_count": 108,
     "metadata": {},
     "output_type": "execute_result"
    }
   ],
   "source": [
    "df.loc[df[\"vin\"] == \"4T1BF1FK8FUB03575\", \"velocity\"].unique()"
   ]
  },
  {
   "cell_type": "markdown",
   "id": "9ff6c1b1-f0e5-47e5-954c-9d8c708f3070",
   "metadata": {},
   "source": [
    "### Observations:\n",
    "- VIN missing in 428 rows\n",
    "- door/seatbelt/wipers/gear have notable nulls → likely optional telemetry or not reported for all vehicles.\n",
    "- timestamp is clean, no nulls. ts_utc is already timezone-aware.\n",
    "- All date/hour partition values match the UTC timestamp range\n",
    "- Gear have some weird values, especially None and 0, which could both might mean NEUTRAL.\n",
    "- There are some (vin, timestamp) duplicates.\n",
    "- There are **only 21 unique VINs!**\n",
    "- Geolocation seems like a sample from a uniform distribution - **sensors might be randomizing location!**\n",
    "- Some **velocity outliers** were detected. It seems that VIN 4T1BF1FK8FUB03575 constantly reports a speed of 450 (and it's a Toyota Camry 2015..)\n",
    "- **Ingestion seems mostly correct**, with a couple of things that need to be addressed.\n"
   ]
  },
  {
   "cell_type": "markdown",
   "id": "be7a6a5d-c170-4727-a4d1-095f4e29f764",
   "metadata": {},
   "source": [
    "## Silver Analysis"
   ]
  },
  {
   "cell_type": "code",
   "execution_count": 109,
   "id": "106e2491-0b63-41c1-a9a8-ca1541ef5e8a",
   "metadata": {},
   "outputs": [
    {
     "name": "stdout",
     "output_type": "stream",
     "text": [
      "                 vin manufacturer  year    model  latitude  longitude  \\\n",
      "0  1C4NJDBB0GD610265         Jeep  2016  Compass     47.27     -89.30   \n",
      "1  1C4NJDBB0GD610265         Jeep  2016  Compass     37.69     -90.89   \n",
      "2  1C4NJDBB0GD610265         Jeep  2016  Compass     36.62     -86.11   \n",
      "\n",
      "       timestamp  velocity frontLeftDoorState wipersState  gearPosition  \\\n",
      "0  1754822684106         0             LOCKED       False             6   \n",
      "1  1754822701102       100           UNLOCKED        None             3   \n",
      "2  1754822714109        90           UNLOCKED        None             1   \n",
      "\n",
      "  driverSeatbeltState                           ts_utc        date hour  \n",
      "0                None 2025-08-10 10:44:44.106000+00:00  2025-08-10   10  \n",
      "1              LOCKED 2025-08-10 10:45:01.102000+00:00  2025-08-10   10  \n",
      "2              LOCKED 2025-08-10 10:45:14.109000+00:00  2025-08-10   10  \n",
      "rows: 8126\n",
      "gear dtype / min / max: int16 -1 6\n",
      "trailing-space manufacturers: 0\n",
      "non-integer gears present: 0\n",
      "Vehicles with velocity < 0 or > 300: 0\n"
     ]
    },
    {
     "data": {
      "image/png": "[encoded data removed]",
      "text/plain": [
       "<Figure size 640x480 with 1 Axes>"
      ]
     },
     "metadata": {},
     "output_type": "display_data"
    }
   ],
   "source": [
    "df = pd.read_parquet(\"messages_silver\")\n",
    "\n",
    "print(df.head(3))\n",
    "s = df.sample(min(len(df), 50_000), random_state=42)\n",
    "\n",
    "print(\"rows:\", len(df))\n",
    "print(\"gear dtype / min / max:\", df[\"gearPosition\"].dtype, df[\"gearPosition\"].min(), df[\"gearPosition\"].max())\n",
    "print(\"trailing-space manufacturers:\", df[\"manufacturer\"].str.contains(r\"\\s$\").sum())\n",
    "print(\"non-integer gears present:\", (~df[\"gearPosition\"].apply(float.is_integer)).sum() if df[\"gearPosition\"].dtype.kind=='f' else 0)\n",
    "print(f\"Vehicles with velocity < 0 or > 300: {(df['velocity'] < 0).sum() + (df['velocity'] > 300).sum()}\")\n",
    "\n",
    "s[\"velocity\"].dropna().plot(kind=\"hist\", bins=50, title=\"Velocity histogram\")\n",
    "plt.xlabel(\"velocity\")\n",
    "plt.show()"
   ]
  },
  {
   "cell_type": "markdown",
   "id": "4b9ccd2a-775d-4b54-b2e5-1fa3e1a72fb8",
   "metadata": {},
   "source": [
    "## Gold Analysis"
   ]
  },
  {
   "cell_type": "code",
   "execution_count": 110,
   "id": "41f21be7-665b-418a-9dac-08f173307de3",
   "metadata": {},
   "outputs": [
    {
     "name": "stdout",
     "output_type": "stream",
     "text": [
      "[VIN LAST STATE SAMPLE]\n"
     ]
    },
    {
     "data": {
      "text/html": [
       "<div>\n",
       "<style scoped>\n",
       "    .dataframe tbody tr th:only-of-type {\n",
       "        vertical-align: middle;\n",
       "    }\n",
       "\n",
       "    .dataframe tbody tr th {\n",
       "        vertical-align: top;\n",
       "    }\n",
       "\n",
       "    .dataframe thead th {\n",
       "        text-align: right;\n",
       "    }\n",
       "</style>\n",
       "<table border=\"1\" class=\"dataframe\">\n",
       "  <thead>\n",
       "    <tr style=\"text-align: right;\">\n",
       "      <th></th>\n",
       "      <th>vin</th>\n",
       "      <th>last_reported_timestamp</th>\n",
       "      <th>front_left_door_state</th>\n",
       "      <th>wipers_state</th>\n",
       "    </tr>\n",
       "  </thead>\n",
       "  <tbody>\n",
       "    <tr>\n",
       "      <th>0</th>\n",
       "      <td>1C4NJDBB0GD610265</td>\n",
       "      <td>2025-08-10 11:44:34.103000+00:00</td>\n",
       "      <td>LOCKED</td>\n",
       "      <td>False</td>\n",
       "    </tr>\n",
       "    <tr>\n",
       "      <th>1</th>\n",
       "      <td>1D3HW58J16S586904</td>\n",
       "      <td>2025-08-10 11:43:57.106000+00:00</td>\n",
       "      <td>LOCKED</td>\n",
       "      <td>True</td>\n",
       "    </tr>\n",
       "    <tr>\n",
       "      <th>2</th>\n",
       "      <td>1FMYU96H95KD42711</td>\n",
       "      <td>2025-08-10 11:44:34.110000+00:00</td>\n",
       "      <td>LOCKED</td>\n",
       "      <td>False</td>\n",
       "    </tr>\n",
       "    <tr>\n",
       "      <th>3</th>\n",
       "      <td>1G4AP6949BX114240</td>\n",
       "      <td>2025-08-10 11:44:30.103000+00:00</td>\n",
       "      <td>UNLOCKED</td>\n",
       "      <td>False</td>\n",
       "    </tr>\n",
       "    <tr>\n",
       "      <th>4</th>\n",
       "      <td>3C3CFFJH9DT711213</td>\n",
       "      <td>2025-08-10 11:44:33.107000+00:00</td>\n",
       "      <td>UNLOCKED</td>\n",
       "      <td>False</td>\n",
       "    </tr>\n",
       "  </tbody>\n",
       "</table>\n",
       "</div>"
      ],
      "text/plain": [
       "                 vin          last_reported_timestamp front_left_door_state  \\\n",
       "0  1C4NJDBB0GD610265 2025-08-10 11:44:34.103000+00:00                LOCKED   \n",
       "1  1D3HW58J16S586904 2025-08-10 11:43:57.106000+00:00                LOCKED   \n",
       "2  1FMYU96H95KD42711 2025-08-10 11:44:34.110000+00:00                LOCKED   \n",
       "3  1G4AP6949BX114240 2025-08-10 11:44:30.103000+00:00              UNLOCKED   \n",
       "4  3C3CFFJH9DT711213 2025-08-10 11:44:33.107000+00:00              UNLOCKED   \n",
       "\n",
       "   wipers_state  \n",
       "0         False  \n",
       "1          True  \n",
       "2         False  \n",
       "3         False  \n",
       "4         False  "
      ]
     },
     "metadata": {},
     "output_type": "display_data"
    },
    {
     "name": "stdout",
     "output_type": "stream",
     "text": [
      "Total VINs: 21\n",
      "\n",
      "Door state distribution:\n",
      "front_left_door_state\n",
      "UNLOCKED    11\n",
      "LOCKED      10\n",
      "Name: count, dtype: int64\n",
      "\n",
      "Wipers state distribution:\n",
      "wipers_state\n",
      "False    20\n",
      "True      1\n",
      "Name: count, dtype: int64\n"
     ]
    }
   ],
   "source": [
    "vin_last_state = pd.read_parquet(\"messages_gold/vin_last_state.parquet\")\n",
    "\n",
    "print(\"[VIN LAST STATE SAMPLE]\")\n",
    "display(vin_last_state.head())\n",
    "print(f\"Total VINs: {vin_last_state['vin'].nunique()}\")\n",
    "\n",
    "print(\"\\nDoor state distribution:\")\n",
    "print(vin_last_state[\"front_left_door_state\"].value_counts(dropna=False))\n",
    "\n",
    "print(\"\\nWipers state distribution:\")\n",
    "print(vin_last_state[\"wipers_state\"].value_counts(dropna=False))\n"
   ]
  },
  {
   "cell_type": "markdown",
   "id": "e30ecdb8-21a0-4638-a098-b2b0467b6174",
   "metadata": {},
   "source": [
    "## Top speed report"
   ]
  },
  {
   "cell_type": "code",
   "execution_count": 111,
   "id": "113d0510-350d-4cb7-be87-d08bb943c8d8",
   "metadata": {},
   "outputs": [
    {
     "name": "stdout",
     "output_type": "stream",
     "text": [
      "\n",
      "[TOP FASTEST PER HOUR]\n"
     ]
    },
    {
     "data": {
      "text/html": [
       "<div>\n",
       "<style scoped>\n",
       "    .dataframe tbody tr th:only-of-type {\n",
       "        vertical-align: middle;\n",
       "    }\n",
       "\n",
       "    .dataframe tbody tr th {\n",
       "        vertical-align: top;\n",
       "    }\n",
       "\n",
       "    .dataframe thead th {\n",
       "        text-align: right;\n",
       "    }\n",
       "</style>\n",
       "<table border=\"1\" class=\"dataframe\">\n",
       "  <thead>\n",
       "    <tr style=\"text-align: right;\">\n",
       "      <th></th>\n",
       "      <th>date_hour</th>\n",
       "      <th>vin</th>\n",
       "      <th>top_velocity</th>\n",
       "    </tr>\n",
       "  </thead>\n",
       "  <tbody>\n",
       "    <tr>\n",
       "      <th>0</th>\n",
       "      <td>2025-08-10 10:00:00+00:00</td>\n",
       "      <td>WDBCB20AXEA063442</td>\n",
       "      <td>190</td>\n",
       "    </tr>\n",
       "    <tr>\n",
       "      <th>1</th>\n",
       "      <td>2025-08-10 10:00:00+00:00</td>\n",
       "      <td>WVWHP9AN8AE560303</td>\n",
       "      <td>190</td>\n",
       "    </tr>\n",
       "    <tr>\n",
       "      <th>2</th>\n",
       "      <td>2025-08-10 10:00:00+00:00</td>\n",
       "      <td>1C4NJDBB0GD610265</td>\n",
       "      <td>160</td>\n",
       "    </tr>\n",
       "    <tr>\n",
       "      <th>3</th>\n",
       "      <td>2025-08-10 10:00:00+00:00</td>\n",
       "      <td>1D3HW58J16S586904</td>\n",
       "      <td>160</td>\n",
       "    </tr>\n",
       "    <tr>\n",
       "      <th>4</th>\n",
       "      <td>2025-08-10 10:00:00+00:00</td>\n",
       "      <td>3C3CFFJH9DT711213</td>\n",
       "      <td>160</td>\n",
       "    </tr>\n",
       "    <tr>\n",
       "      <th>5</th>\n",
       "      <td>2025-08-10 10:00:00+00:00</td>\n",
       "      <td>9BWEL41J484018815</td>\n",
       "      <td>160</td>\n",
       "    </tr>\n",
       "    <tr>\n",
       "      <th>6</th>\n",
       "      <td>2025-08-10 10:00:00+00:00</td>\n",
       "      <td>JN1CV6FH0A0017612</td>\n",
       "      <td>160</td>\n",
       "    </tr>\n",
       "    <tr>\n",
       "      <th>7</th>\n",
       "      <td>2025-08-10 10:00:00+00:00</td>\n",
       "      <td>YV1CZ852051206734</td>\n",
       "      <td>160</td>\n",
       "    </tr>\n",
       "    <tr>\n",
       "      <th>8</th>\n",
       "      <td>2025-08-10 10:00:00+00:00</td>\n",
       "      <td>1G4AP6949BX114240</td>\n",
       "      <td>150</td>\n",
       "    </tr>\n",
       "    <tr>\n",
       "      <th>9</th>\n",
       "      <td>2025-08-10 10:00:00+00:00</td>\n",
       "      <td>4TAPN62N0TZ087521</td>\n",
       "      <td>150</td>\n",
       "    </tr>\n",
       "  </tbody>\n",
       "</table>\n",
       "</div>"
      ],
      "text/plain": [
       "                   date_hour                vin  top_velocity\n",
       "0  2025-08-10 10:00:00+00:00  WDBCB20AXEA063442           190\n",
       "1  2025-08-10 10:00:00+00:00  WVWHP9AN8AE560303           190\n",
       "2  2025-08-10 10:00:00+00:00  1C4NJDBB0GD610265           160\n",
       "3  2025-08-10 10:00:00+00:00  1D3HW58J16S586904           160\n",
       "4  2025-08-10 10:00:00+00:00  3C3CFFJH9DT711213           160\n",
       "5  2025-08-10 10:00:00+00:00  9BWEL41J484018815           160\n",
       "6  2025-08-10 10:00:00+00:00  JN1CV6FH0A0017612           160\n",
       "7  2025-08-10 10:00:00+00:00  YV1CZ852051206734           160\n",
       "8  2025-08-10 10:00:00+00:00  1G4AP6949BX114240           150\n",
       "9  2025-08-10 10:00:00+00:00  4TAPN62N0TZ087521           150"
      ]
     },
     "metadata": {},
     "output_type": "display_data"
    },
    {
     "name": "stdout",
     "output_type": "stream",
     "text": [
      "\n",
      "Top velocity stats:\n",
      "count     20.000000\n",
      "mean     171.000000\n",
      "std       16.189665\n",
      "min      150.000000\n",
      "25%      160.000000\n",
      "50%      160.000000\n",
      "75%      190.000000\n",
      "max      190.000000\n",
      "Name: top_velocity, dtype: float64\n"
     ]
    }
   ],
   "source": [
    "top_fastest = pd.read_csv(\"reports/top_fastest_per_hour.csv\")\n",
    "\n",
    "print(\"\\n[TOP FASTEST PER HOUR]\")\n",
    "display(top_fastest.head(10))\n",
    "\n",
    "print(\"\\nTop velocity stats:\")\n",
    "print(top_fastest[\"top_velocity\"].describe())"
   ]
  },
  {
   "cell_type": "code",
   "execution_count": null,
   "id": "98637e9b-4612-4ff5-bf1d-813ef34537ef",
   "metadata": {
    "collapsed": true,
    "jupyter": {
     "outputs_hidden": true
    }
   },
   "outputs": [],
   "source": []
  }
 ],
 "metadata": {
  "kernelspec": {
   "display_name": "Python 3 (ipykernel)",
   "language": "python",
   "name": "python3"
  },
  "language_info": {
   "codemirror_mode": {
    "name": "ipython",
    "version": 3
   },
   "file_extension": ".py",
   "mimetype": "text/x-python",
   "name": "python",
   "nbconvert_exporter": "python",
   "pygments_lexer": "ipython3",
   "version": "3.11.8"
  }
 },
 "nbformat": 4,
 "nbformat_minor": 5
}
